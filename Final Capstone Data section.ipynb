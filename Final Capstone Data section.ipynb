{
 "cells": [
  {
   "cell_type": "markdown",
   "id": "e6da6996-7094-4739-ae04-d494bbe505bd",
   "metadata": {},
   "source": [
    "### New York City Pizza market analysis : Data section"
   ]
  },
  {
   "cell_type": "markdown",
   "id": "f65a5c2d-9d6b-44ea-a5c6-5df58400c4a9",
   "metadata": {},
   "source": [
    "For achieve the purpose of this project, I will use a dataset that contains NYC's Borough, Neighborhoods, Latitude and Longitude of the latest one.\n",
    "It will be essential to find all Neighborhoods in the city and their coordinates. In fact, through them, I will use FourSquare to collect all the venues in that Neighboords.\n"
   ]
  },
  {
   "cell_type": "markdown",
   "id": "b0da1552-2058-4134-b2f0-4a1182acfdf7",
   "metadata": {},
   "source": [
    "#### Summarly, my 2 main sources of data will be the NYC dataset described above and data about venues retrived by FourSquare."
   ]
  },
  {
   "cell_type": "code",
   "execution_count": null,
   "id": "890eaa2c-7413-4aa8-923b-04317105b46f",
   "metadata": {},
   "outputs": [],
   "source": []
  }
 ],
 "metadata": {
  "kernelspec": {
   "display_name": "Python",
   "language": "python",
   "name": "conda-env-python-py"
  },
  "language_info": {
   "codemirror_mode": {
    "name": "ipython",
    "version": 3
   },
   "file_extension": ".py",
   "mimetype": "text/x-python",
   "name": "python",
   "nbconvert_exporter": "python",
   "pygments_lexer": "ipython3",
   "version": "3.6.13"
  }
 },
 "nbformat": 4,
 "nbformat_minor": 5
}
