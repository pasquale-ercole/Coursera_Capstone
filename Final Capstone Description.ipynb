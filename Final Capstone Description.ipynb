{
 "cells": [
  {
   "cell_type": "markdown",
   "id": "e3feb3ff-fd93-4d30-a59d-7d3aa1470f7a",
   "metadata": {},
   "source": [
    "### New Tork City Pizza market analysis"
   ]
  },
  {
   "cell_type": "markdown",
   "id": "3017588e-13ae-42de-a909-4478114ac0b9",
   "metadata": {},
   "source": [
    "One of the oldest Pizza Restaurant in Naples, Italy, is studying the possibility to make its first investment outside Italy.\n",
    "\n",
    "The Pizza restaurant's owners first choice is New York City. The city in highly attractive for foreign investments, the Pizza culture is extremely well-developed and it could be the chance to give the restaurant's brand an international boost.\n",
    "However, the city competition in both Italian Restaurant and Pizza sectors is really high and the real estate market is expensive, so the company has to carefully study its peers in the city. "
   ]
  },
  {
   "cell_type": "markdown",
   "id": "557fd97b-7f0a-4881-bc86-934cf249a15c",
   "metadata": {},
   "source": [
    "The Pizza restaurant owner has any precise idea to where locate the new opening, so it will be useful for him to look a map that shows the most attractive and competitive pizza venues in the city."
   ]
  },
  {
   "cell_type": "markdown",
   "id": "a892d32d-824f-41ec-b2c2-99ba8c747604",
   "metadata": {},
   "source": [
    "I will start collecting the NYC data, clean it if necessary, use Foursquare to "
   ]
  }
 ],
 "metadata": {
  "kernelspec": {
   "display_name": "Python",
   "language": "python",
   "name": "conda-env-python-py"
  },
  "language_info": {
   "codemirror_mode": {
    "name": "ipython",
    "version": 3
   },
   "file_extension": ".py",
   "mimetype": "text/x-python",
   "name": "python",
   "nbconvert_exporter": "python",
   "pygments_lexer": "ipython3",
   "version": "3.6.13"
  }
 },
 "nbformat": 4,
 "nbformat_minor": 5
}
