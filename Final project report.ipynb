{
 "cells": [
  {
   "cell_type": "markdown",
   "id": "5566dc3d-4d41-458c-927f-1e2a1d638480",
   "metadata": {},
   "source": [
    "## New York City pizza market report"
   ]
  },
  {
   "cell_type": "markdown",
   "id": "ee660d81-f5c8-4a02-ae4d-4c6f64b465ed",
   "metadata": {},
   "source": [
    "#### Case study description\n",
    "\n",
    "One of the oldest Pizza Restaurant in Naples, Italy, is studying the possibility to make its first investment outside Italy.\n",
    "\n",
    "The Pizza restaurant's owners first choice is New York City. The city in highly attractive for foreign investments, the Pizza culture is extremely well-developed and it could be the chance to give the restaurant's brand an international boost.\n",
    "However, the city competition in both Italian Restaurant and Pizza sectors is really high and the real estate market is expensive, so the company has to carefully study its peers in the city. \n",
    "\n",
    "The Pizza restaurant owner has any precise idea to where locate the new opening, so it will be useful for him to look a map that shows the most attractive and competitive pizza venues in the city.\n",
    "\n",
    "I will start collecting the NYC data, clean it if necessary, use Foursquare to get the venues that I need and, finally, build a cluster to segment the Pizza restaurant in the city."
   ]
  },
  {
   "cell_type": "markdown",
   "id": "4a513212-3a65-44e1-97f9-7f179842871f",
   "metadata": {},
   "source": [
    "#### Data section\n",
    "\n",
    "For achieve the purpose of this project, I will use a dataset that contains NYC's Borough, Neighborhoods, Latitude and Longitude of the latest one.\n",
    "It will be essential to find all Neighborhoods in the city and their coordinates. In fact, through them, I will use FourSquare to collect all the venues in that Neighboords.\n",
    "\n",
    "Summarly, my 2 main sources of data will be the NYC dataset described above and data about venues retrived by FourSquare."
   ]
  },
  {
   "cell_type": "markdown",
   "id": "e07858cd-b2fe-41c8-914b-4deb794cd685",
   "metadata": {},
   "source": [
    "#### Methodology analysis\n",
    "In the first section of the model, after collected the necessary data from the NYC database, I transformed it from a json file to a structured pandas dataframe.\n",
    "All the attributes which I need were collected: Borough, Neighborhood and this last one coordinates. A map of all Neighborhood was created through Folium library and building the necessary markers. So, it was possible to visualize all the suitable Neighborhoods.\n",
    "\n",
    "After that, FourSquare was used to collect all venues for each Neighborhood. The key elements were the neighborhood coordinates. To get all venues for all Neighborhoods I defined a new function capable to collect all neighborhoods which were runned in a function to extract venues from FourSquare and put the venue's data in a new dataframe.\n",
    "Essentially, the first dataframe was crucial to find all the Neighborhoods data in NYC.\n",
    "\n",
    "The new database contained all venues in the city. However, I needed only the Pizza Place, so a filtered the venues category using a function that creates a mask to extract only the data equal to certain value.\n",
    "The new filtered dataframe contained only Pizza venues, useful to study their location in NYC. \n",
    "\n",
    "After eliminating all the categorical variables, I was ready to cluster my database. I used the K-Means clustering method. \n",
    "I choosed 5 clusters, but it is possible to choose a different number of clusters that might better fit the model.\n",
    "I addes the previous dropped variables to a new databes plus the cluster label column. Finally, I was able to visualize a map of all Pizza restaurant in the city, clustered in 5 areas."
   ]
  },
  {
   "cell_type": "markdown",
   "id": "878ef94c-a756-412a-bb67-41de53a75b69",
   "metadata": {},
   "source": [
    "#### Result\n",
    "\n",
    "The model result was pretty predictable, NYC has many Pizza restaurant!\n",
    "However, it easy to see that their disperion is different for each Neighborhood and many of them might be very attractive to open a new one."
   ]
  },
  {
   "cell_type": "markdown",
   "id": "965c0ed5-f7a3-4c91-a709-0742fd554909",
   "metadata": {},
   "source": [
    "#### Observations and Conlusion\n",
    "The model is highly liked to FourSquare perfomance.\n",
    "New York City is a very huge city, so it would be good to focus on a specif Borough or group of Neighborhood.\n",
    "The model is essentially scalable for every city in the world if FourSquare could provide a reliable dataset of Venues."
   ]
  },
  {
   "cell_type": "code",
   "execution_count": null,
   "id": "9d40132c-b44b-43b9-9904-ad943f386ef3",
   "metadata": {},
   "outputs": [],
   "source": []
  }
 ],
 "metadata": {
  "kernelspec": {
   "display_name": "Python",
   "language": "python",
   "name": "conda-env-python-py"
  },
  "language_info": {
   "codemirror_mode": {
    "name": "ipython",
    "version": 3
   },
   "file_extension": ".py",
   "mimetype": "text/x-python",
   "name": "python",
   "nbconvert_exporter": "python",
   "pygments_lexer": "ipython3",
   "version": "3.6.13"
  }
 },
 "nbformat": 4,
 "nbformat_minor": 5
}
