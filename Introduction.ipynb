{
 "cells": [
  {
   "cell_type": "markdown",
   "id": "47e99c86",
   "metadata": {},
   "source": [
    "## FINAL CAPSTONE PROJECT"
   ]
  },
  {
   "cell_type": "markdown",
   "id": "ea95a67c",
   "metadata": {},
   "source": [
    "### Hello Capstone Project Course!"
   ]
  },
  {
   "cell_type": "markdown",
   "id": "bf39a3d9",
   "metadata": {},
   "source": [
    "This is the introduction notebook to the last IBM Data Science Professional Certificate's course : \"Applied Data Science Capstone\"\n",
    "I will be involved in a final project where I will be research how mich neighbors in different places would be similar or different."
   ]
  },
  {
   "cell_type": "markdown",
   "id": "ad77f0f9",
   "metadata": {},
   "source": [
    "I will deploy many of my new skills learnt during the previous 9 chapters of this Professional course provided by IBM"
   ]
  },
  {
   "cell_type": "code",
   "execution_count": 1,
   "id": "d507e389",
   "metadata": {},
   "outputs": [],
   "source": [
    "import pandas as pd\n",
    "import numpy as np"
   ]
  },
  {
   "cell_type": "markdown",
   "id": "4f12e8c0",
   "metadata": {},
   "source": [
    "Thanks for the attention!"
   ]
  }
 ],
 "metadata": {
  "kernelspec": {
   "display_name": "Python",
   "language": "python",
   "name": "conda-env-python-py"
  },
  "language_info": {
   "codemirror_mode": {
    "name": "ipython",
    "version": 3
   },
   "file_extension": ".py",
   "mimetype": "text/x-python",
   "name": "python",
   "nbconvert_exporter": "python",
   "pygments_lexer": "ipython3",
   "version": "3.6.13"
  }
 },
 "nbformat": 4,
 "nbformat_minor": 5
}
