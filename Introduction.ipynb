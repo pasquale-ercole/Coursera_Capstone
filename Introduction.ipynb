{
 "cells": [
  {
   "cell_type": "markdown",
   "id": "01cc4a59",
   "metadata": {},
   "source": [
    "## FINAL CAPSTONE PROJECT"
   ]
  },
  {
   "cell_type": "markdown",
   "id": "28f5916a",
   "metadata": {},
   "source": [
    "### Hello Capstone Project Course!"
   ]
  },
  {
   "cell_type": "markdown",
   "id": "ee40fd91",
   "metadata": {},
   "source": [
    "This is the introduction notebook to the last IBM Data Science Professional Certificate's course : \"Applied Data Science Capstone\"\n",
    "I will be involved in a final project where I will be research how mich neighbors in different places would be similar or different."
   ]
  },
  {
   "cell_type": "markdown",
   "id": "8b77763e",
   "metadata": {},
   "source": [
    "I will deploy many of my new skills learnt during the previous 9 chapters of this Professional course provided by IBM"
   ]
  },
  {
   "cell_type": "code",
   "execution_count": 1,
   "id": "e4b1a452",
   "metadata": {},
   "outputs": [],
   "source": [
    "import pandas as pd\n",
    "import numpy as np"
   ]
  },
  {
   "cell_type": "code",
   "execution_count": 2,
   "id": "2ec40d74",
   "metadata": {},
   "outputs": [
    {
     "name": "stdout",
     "output_type": "stream",
     "text": [
      "Hello Capstone Project Course!\n"
     ]
    }
   ],
   "source": [
    "print('Hello Capstone Project Course!')"
   ]
  },
  {
   "cell_type": "markdown",
   "id": "1d21611b",
   "metadata": {},
   "source": [
    "Thanks for the attention!"
   ]
  }
 ],
 "metadata": {
  "kernelspec": {
   "display_name": "Python",
   "language": "python",
   "name": "conda-env-python-py"
  },
  "language_info": {
   "codemirror_mode": {
    "name": "ipython",
    "version": 3
   },
   "file_extension": ".py",
   "mimetype": "text/x-python",
   "name": "python",
   "nbconvert_exporter": "python",
   "pygments_lexer": "ipython3",
   "version": "3.6.13"
  }
 },
 "nbformat": 4,
 "nbformat_minor": 5
}
